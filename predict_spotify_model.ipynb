{
 "cells": [
  {
   "cell_type": "markdown",
   "metadata": {},
   "source": [
    "# Song Recommender Test"
   ]
  },
  {
   "cell_type": "code",
   "execution_count": 1,
   "metadata": {},
   "outputs": [],
   "source": [
    "import numpy as np\n",
    "import sys\n",
    "from IPython.display import display\n",
    "import seaborn as sns\n",
    "import spotipy\n",
    "import spotipy.util as util\n",
    "from spotipy.oauth2 import SpotifyClientCredentials\n",
    "\n",
    "import pandas as pd\n",
    "from sklearn import preprocessing\n",
    "import matplotlib.pyplot as plt\n",
    "import pickle"
   ]
  },
  {
   "cell_type": "code",
   "execution_count": 2,
   "metadata": {},
   "outputs": [],
   "source": [
    "import os\n",
    "os.environ['SPOTIPY_CLIENT_ID']=''\n",
    "os.environ['SPOTIPY_CLIENT_SECRET']=''\n",
    "os.environ['SPOTIPY_REDIRECT_URI']= 'http://localhost/callback/'"
   ]
  },
  {
   "cell_type": "code",
   "execution_count": 3,
   "metadata": {},
   "outputs": [],
   "source": [
    "scope = \"user-library-read playlist-modify-public playlist-modify-private\"\n",
    "username = 'INSERT_YOUR_USERNAME'\n",
    "token = util.prompt_for_user_token(username,scope,redirect_uri='http://localhost/callback/')"
   ]
  },
  {
   "cell_type": "code",
   "execution_count": 4,
   "metadata": {},
   "outputs": [],
   "source": [
    "spotify = spotipy.Spotify(auth=token)"
   ]
  },
  {
   "cell_type": "code",
   "execution_count": 5,
   "metadata": {},
   "outputs": [],
   "source": [
    "def show_get_audio_features_track(track):\n",
    "    '''Get audio features of a specific track'''\n",
    "    audio_features = spotify.audio_features(track['id'])\n",
    "    \n",
    "    features_list = []\n",
    "    for features in audio_features:\n",
    "        features_list.append(([features['energy'], features['liveness'],\n",
    "                              features['tempo'], features['speechiness'],\n",
    "                              features['acousticness'], features['instrumentalness'],\n",
    "                              features['time_signature'], features['danceability'],\n",
    "                              features['key'], features['duration_ms'],\n",
    "                              features['loudness'], features['valence'],\n",
    "                              features['mode'], features['type'],\n",
    "                              features['uri']]))\n",
    "        \n",
    "    df = pd.DataFrame(features_list, columns=['energy', 'liveness',\n",
    "                                              'tempo', 'speechiness',\n",
    "                                              'acousticness', 'instrumentalness',\n",
    "                                              'time_signature', 'danceability',\n",
    "                                              'key', 'duration_ms', 'loudness',\n",
    "                                              'valence', 'mode', 'type', 'uri'])\n",
    "    display(df)\n",
    "    reduced_df = df.iloc[:, [0,1,3,4,5,7,11]] #valence\n",
    "    reduced_df = reduced_df \n",
    "    ax = reduced_df.iloc[0].plot.bar()\n",
    "    plt.tight_layout()\n",
    "    title = \"Audio Features for Track: \" + track['name']\n",
    "    plt.title(title)\n",
    "    plt.savefig('hammer_smashed_face.png')\n",
    "    plt.show()\n",
    "    \n",
    "    detail_df = df.iloc[:, [2,8,10,12]]\n",
    "    return detail_df, df"
   ]
  },
  {
   "cell_type": "markdown",
   "metadata": {},
   "source": [
    "## Load Model"
   ]
  },
  {
   "cell_type": "code",
   "execution_count": 6,
   "metadata": {},
   "outputs": [],
   "source": [
    "# load model\n",
    "filename = 'final_model.sav'\n",
    "svm = pickle.load(open(filename, 'rb'))"
   ]
  },
  {
   "cell_type": "markdown",
   "metadata": {},
   "source": [
    "## Predict if a specific track would fit into my Playlist"
   ]
  },
  {
   "cell_type": "code",
   "execution_count": 7,
   "metadata": {},
   "outputs": [],
   "source": [
    "def predict(uri):\n",
    "    track = spotify.track(uri)\n",
    "    print(\"Song name: \", track['name'])\n",
    "    \n",
    "    # get audio features\n",
    "    details, track_features = show_get_audio_features_track(track)\n",
    "    track_features = track_features.iloc[:, [0,1,2,3,4,5,6,7,8,10,12]]\n",
    "    y_pred = svm.predict(track_features)\n",
    "    \n",
    "    if y_pred == 0:\n",
    "        print(\"You won't like that song!\")\n",
    "    else:\n",
    "        print(\"Add the song to your playlist!\")"
   ]
  },
  {
   "cell_type": "code",
   "execution_count": 8,
   "metadata": {},
   "outputs": [
    {
     "name": "stdout",
     "output_type": "stream",
     "text": [
      "Song name:  Baby\n"
     ]
    },
    {
     "data": {
      "text/html": [
       "<div>\n",
       "<style scoped>\n",
       "    .dataframe tbody tr th:only-of-type {\n",
       "        vertical-align: middle;\n",
       "    }\n",
       "\n",
       "    .dataframe tbody tr th {\n",
       "        vertical-align: top;\n",
       "    }\n",
       "\n",
       "    .dataframe thead th {\n",
       "        text-align: right;\n",
       "    }\n",
       "</style>\n",
       "<table border=\"1\" class=\"dataframe\">\n",
       "  <thead>\n",
       "    <tr style=\"text-align: right;\">\n",
       "      <th></th>\n",
       "      <th>energy</th>\n",
       "      <th>liveness</th>\n",
       "      <th>tempo</th>\n",
       "      <th>speechiness</th>\n",
       "      <th>acousticness</th>\n",
       "      <th>instrumentalness</th>\n",
       "      <th>time_signature</th>\n",
       "      <th>danceability</th>\n",
       "      <th>key</th>\n",
       "      <th>duration_ms</th>\n",
       "      <th>loudness</th>\n",
       "      <th>valence</th>\n",
       "      <th>mode</th>\n",
       "      <th>type</th>\n",
       "      <th>uri</th>\n",
       "    </tr>\n",
       "  </thead>\n",
       "  <tbody>\n",
       "    <tr>\n",
       "      <td>0</td>\n",
       "      <td>0.859</td>\n",
       "      <td>0.111</td>\n",
       "      <td>65.043</td>\n",
       "      <td>0.137</td>\n",
       "      <td>0.0401</td>\n",
       "      <td>0</td>\n",
       "      <td>4</td>\n",
       "      <td>0.728</td>\n",
       "      <td>5</td>\n",
       "      <td>214240</td>\n",
       "      <td>-5.237</td>\n",
       "      <td>0.535</td>\n",
       "      <td>0</td>\n",
       "      <td>audio_features</td>\n",
       "      <td>spotify:track:6epn3r7S14KUqlReYr77hA</td>\n",
       "    </tr>\n",
       "  </tbody>\n",
       "</table>\n",
       "</div>"
      ],
      "text/plain": [
       "   energy  liveness   tempo  speechiness  acousticness  instrumentalness  \\\n",
       "0   0.859     0.111  65.043        0.137        0.0401                 0   \n",
       "\n",
       "   time_signature  danceability  key  duration_ms  loudness  valence  mode  \\\n",
       "0               4         0.728    5       214240    -5.237    0.535     0   \n",
       "\n",
       "             type                                   uri  \n",
       "0  audio_features  spotify:track:6epn3r7S14KUqlReYr77hA  "
      ]
     },
     "metadata": {},
     "output_type": "display_data"
    },
    {
     "data": {
      "image/png": "[encoded data removed]",
      "text/plain": [
       "<Figure size 432x288 with 1 Axes>"
      ]
     },
     "metadata": {
      "needs_background": "light"
     },
     "output_type": "display_data"
    },
    {
     "name": "stdout",
     "output_type": "stream",
     "text": [
      "You won't like that song!\n"
     ]
    }
   ],
   "source": [
    "# sample songs\n",
    "metallica_uri = 'spotify:track:2R6UrJ8uWbSIiHWmvRQvN8'\n",
    "pack_uri = 'spotify:track:33QVVUvGhQzA8rGUj0NOtY'\n",
    "hammer_uri = 'spotify:track:0X5ZCVx1fCh3jIwNsSYpp7'\n",
    "justin_bieber_uri = 'spotify:track:6epn3r7S14KUqlReYr77hA'\n",
    "\n",
    "predict(justin_bieber_uri)"
   ]
  },
  {
   "cell_type": "markdown",
   "metadata": {},
   "source": [
    "### Compare with all Songs"
   ]
  },
  {
   "cell_type": "code",
   "execution_count": 9,
   "metadata": {},
   "outputs": [
    {
     "data": {
      "image/png": "[encoded data removed]",
      "text/plain": [
       "<Figure size 576x432 with 1 Axes>"
      ]
     },
     "metadata": {
      "needs_background": "light"
     },
     "output_type": "display_data"
    }
   ],
   "source": [
    "mean_plot = plt.imread('mean_plot.png')\n",
    "plt.figure(figsize=(8, 6))\n",
    "plt.imshow(mean_plot)\n",
    "plt.show()"
   ]
  },
  {
   "cell_type": "markdown",
   "metadata": {},
   "source": [
    "## Personal Result  "
   ]
  },
  {
   "cell_type": "markdown",
   "metadata": {},
   "source": [
    "- I'm agreeing with the displayed track predicition but I'm not fully convinced about the model performance\n",
    "- for a \"real\" result, the model accuracy should be higher and more songs are needed\n",
    "- problem: negative data used could be biased because I only searched for specific musical directions to get enough data $\\rightarrow$ looking for pop music that I don't like would take longer because of the manual selection\n",
    "- Are the audio features enough and how were they labeled (see my BPM surprise in \"train_spotify_music.ipynb\")?\n",
    "- musical taste is not easy to describe and sometimes, you might not even know why you like the song $\\rightarrow$ musical taste is more complex $\\Rightarrow$ more complex methods are needed but this feature based methods is a good starting point to get an impression"
   ]
  },
  {
   "cell_type": "code",
   "execution_count": null,
   "metadata": {},
   "outputs": [],
   "source": []
  }
 ],
 "metadata": {
  "kernelspec": {
   "display_name": "Python 3",
   "language": "python",
   "name": "python3"
  },
  "language_info": {
   "codemirror_mode": {
    "name": "ipython",
    "version": 3
   },
   "file_extension": ".py",
   "mimetype": "text/x-python",
   "name": "python",
   "nbconvert_exporter": "python",
   "pygments_lexer": "ipython3",
   "version": "3.7.1"
  }
 },
 "nbformat": 4,
 "nbformat_minor": 2
}