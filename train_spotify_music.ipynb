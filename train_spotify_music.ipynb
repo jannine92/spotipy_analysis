{
 "cells": [
  {
   "cell_type": "markdown",
   "metadata": {},
   "source": [
    "# Analysis of Spotify Playlists & Song Recommender"
   ]
  },
  {
   "cell_type": "code",
   "execution_count": 1,
   "metadata": {},
   "outputs": [],
   "source": [
    "import numpy as np\n",
    "import sys\n",
    "from IPython.display import display\n",
    "import pandas as pd\n",
    "import matplotlib.pyplot as plt\n",
    "import pickle\n",
    "\n",
    "import spotipy\n",
    "import spotipy.util as util\n",
    "from spotipy.oauth2 import SpotifyClientCredentials\n",
    "\n",
    "from skopt.space import *\n",
    "from skopt.space import Real, Integer, Categorical\n",
    "from skopt.utils import use_named_args\n",
    "from skopt import gp_minimize\n",
    "from skopt.plots import plot_convergence\n",
    "from sklearn import svm, preprocessing\n",
    "from sklearn.model_selection import train_test_split\n",
    "from sklearn.utils import shuffle\n",
    "from sklearn import metrics\n",
    "from sklearn.mixture import GaussianMixture\n",
    "from sklearn.svm import SVC\n",
    "from sklearn.metrics import accuracy_score\n",
    "from sklearn import model_selection"
   ]
  },
  {
   "cell_type": "markdown",
   "metadata": {},
   "source": [
    "## Get Connection to Spotify Account and Playlists"
   ]
  },
  {
   "cell_type": "code",
   "execution_count": 2,
   "metadata": {},
   "outputs": [],
   "source": [
    "import os\n",
    "# to get a client id and client secret, you have to create an app on\n",
    "# https://developer.spotify.com/dashboard/ with your Spotify account\n",
    "os.environ['SPOTIPY_CLIENT_ID']=''\n",
    "os.environ['SPOTIPY_CLIENT_SECRET']=''\n",
    "os.environ['SPOTIPY_REDIRECT_URI']= 'http://localhost/callback/' "
   ]
  },
  {
   "cell_type": "code",
   "execution_count": 3,
   "metadata": {},
   "outputs": [],
   "source": [
    "scope = \"user-library-read playlist-modify-public playlist-modify-private\"\n",
    "username = 'INSERT_YOUR_USERNAME'\n",
    "token = util.prompt_for_user_token(username,scope,redirect_uri='http://localhost/callback/')"
   ]
  },
  {
   "cell_type": "code",
   "execution_count": 4,
   "metadata": {},
   "outputs": [],
   "source": [
    "def get_playlist_audio_features(username,playlist,spotify):\n",
    "    '''Store selected audio features of a playlist in a dataframe'''\n",
    "    track_ids = []\n",
    "\n",
    "    results = spotify.user_playlist(username,playlist['id'],fields=\"tracks,next\")\n",
    "    tracks = results['tracks']['items']\n",
    "    for i, item in enumerate(tracks):\n",
    "        track_ids.append(item['track']['id'])\n",
    "    \n",
    "    audio_features = []\n",
    "    for i in range(len(track_ids)):\n",
    "        audio_features += spotify.audio_features(track_ids[i])\n",
    "        \n",
    "    features_list = []\n",
    "    for features in audio_features:\n",
    "        features_list.append([features['energy'], features['liveness'],\n",
    "                              features['tempo'], features['speechiness'],\n",
    "                              features['acousticness'], features['instrumentalness'],\n",
    "                              features['time_signature'], features['danceability'],\n",
    "                              features['key'], features['duration_ms'],\n",
    "                              features['loudness'], features['valence'],\n",
    "                              features['mode'], features['type'],\n",
    "                              features['uri']])\n",
    "    \n",
    "    df = pd.DataFrame(features_list, columns=['energy', 'liveness',\n",
    "                                              'tempo', 'speechiness',\n",
    "                                              'acousticness', 'instrumentalness',\n",
    "                                              'time_signature', 'danceability',\n",
    "                                              'key', 'duration_ms', 'loudness',\n",
    "                                              'valence', 'mode', 'type', 'uri'])\n",
    "    \n",
    "\n",
    "    return df\n"
   ]
  },
  {
   "cell_type": "code",
   "execution_count": 5,
   "metadata": {},
   "outputs": [],
   "source": [
    "def get_df_playlists(username,spotify):\n",
    "    '''Store all songs in one dataframe '''\n",
    "    playlists = spotify.user_playlists(username)\n",
    "    df = pd.DataFrame()\n",
    "    for playlist in playlists['items']:\n",
    "        if playlist['owner']['id'] == username:\n",
    "            df_audio_features = get_playlist_audio_features(username,playlist,spotify)\n",
    "            df = df.append(df_audio_features, ignore_index = True)\n",
    "    df = df.drop_duplicates()\n",
    "    return df"
   ]
  },
  {
   "cell_type": "code",
   "execution_count": 6,
   "metadata": {},
   "outputs": [],
   "source": [
    "spotify = spotipy.Spotify(auth=token)\n",
    "df = get_df_playlists(username,spotify)"
   ]
  },
  {
   "cell_type": "markdown",
   "metadata": {},
   "source": [
    "## Mean and Variance of Audio Features"
   ]
  },
  {
   "cell_type": "code",
   "execution_count": 7,
   "metadata": {},
   "outputs": [
    {
     "data": {
      "image/png": "[encoded data removed]",
      "text/plain": [
       "<Figure size 432x288 with 1 Axes>"
      ]
     },
     "metadata": {
      "needs_background": "light"
     },
     "output_type": "display_data"
    },
    {
     "data": {
      "image/png": "[encoded data removed]",
      "text/plain": [
       "<Figure size 432x288 with 1 Axes>"
      ]
     },
     "metadata": {
      "needs_background": "light"
     },
     "output_type": "display_data"
    }
   ],
   "source": [
    "reduced_df = df.iloc[:, [0,1,3,4,5,7,11]]\n",
    "\n",
    "agg_df = pd.DataFrame()\n",
    "agg_df[\"mean\"] = reduced_df.mean(axis=0)\n",
    "agg_df[\"var\"] = reduced_df.var(axis=0)\n",
    "\n",
    "agg_df.plot(kind=\"bar\", y=\"mean\", legend=False, title=\"Mean of Audio Features for all Songs\", yerr=\"var\")\n",
    "plt.tight_layout()\n",
    "plt.savefig('mean_plot.png', dpi=500)\n",
    "plt.show()\n",
    "\n",
    "mean_plot = plt.imread('mean_plot.png')\n",
    " \n",
    "\n",
    "var_reduced_df = reduced_df.var(axis=0).to_frame().T\n",
    "ax = var_reduced_df.iloc[0].plot.bar(color=\"skyblue\")\n",
    "plt.tight_layout()\n",
    "plt.savefig('var_plot.png')\n",
    "plt.show()\n"
   ]
  },
  {
   "cell_type": "markdown",
   "metadata": {},
   "source": [
    "## Analyze BPMs for Playlists  \n",
    "**Expectation:**  \n",
    "- BPM of jogging playlist should be higher than average\n",
    "- BPM of work playlist should be lower than jogging playlist"
   ]
  },
  {
   "cell_type": "code",
   "execution_count": 8,
   "metadata": {},
   "outputs": [
    {
     "data": {
      "image/png": "[encoded data removed]",
      "text/plain": [
       "<Figure size 432x288 with 1 Axes>"
      ]
     },
     "metadata": {
      "needs_background": "light"
     },
     "output_type": "display_data"
    },
    {
     "data": {
      "image/png": "[encoded data removed]",
      "text/plain": [
       "<Figure size 432x288 with 1 Axes>"
      ]
     },
     "metadata": {
      "needs_background": "light"
     },
     "output_type": "display_data"
    },
    {
     "name": "stdout",
     "output_type": "stream",
     "text": [
      "jogging mean tempo:  119.88604166666664  vs. overall mean tempo:  115.2270933333333\n"
     ]
    }
   ],
   "source": [
    "playlists = spotify.user_playlists(username)\n",
    "for playlist in playlists['items']:\n",
    "        if playlist['owner']['id'] == username: \n",
    "            if playlist['name'] == 'Jogging':\n",
    "                jog_audio_features = get_playlist_audio_features(username,playlist,spotify)\n",
    "                jog_mean_tempo = jog_audio_features['tempo'].mean()\n",
    "                jog_min_tempo = jog_audio_features['tempo'].min()\n",
    "                jog_max_tempo = jog_audio_features['tempo'].max()\n",
    "\n",
    "overall_mean_tempo = df['tempo'].mean()\n",
    "\n",
    "hist = jog_audio_features.hist(column=['tempo'])\n",
    "plt.title(\"Histogram of BPM of the Jogging Playlist\")\n",
    "plt.savefig('hist_jogging_tempo.png')\n",
    "hist_all = df.hist(column=['tempo'])\n",
    "plt.title(\"Histogram of BPM of all Songs\")\n",
    "plt.savefig('hist_overall_tempo.png')\n",
    "plt.show()\n",
    "\n",
    "print('jogging mean tempo: ', jog_mean_tempo, ' vs. overall mean tempo: ', overall_mean_tempo)"
   ]
  },
  {
   "cell_type": "code",
   "execution_count": 9,
   "metadata": {
    "scrolled": true
   },
   "outputs": [
    {
     "data": {
      "image/png": "[encoded data removed]",
      "text/plain": [
       "<Figure size 432x288 with 1 Axes>"
      ]
     },
     "metadata": {
      "needs_background": "light"
     },
     "output_type": "display_data"
    },
    {
     "name": "stdout",
     "output_type": "stream",
     "text": [
      "jogging mean tempo:  119.88604166666664  vs. overall mean tempo:  115.2270933333333  vs. working mean tempo:  114.68606666666666\n"
     ]
    }
   ],
   "source": [
    "playlists = spotify.user_playlists(username)\n",
    "for playlist in playlists['items']:\n",
    "        if playlist['owner']['id'] == username: \n",
    "            if playlist['name'] == 'Work':\n",
    "                work_audio_features = get_playlist_audio_features(username,playlist,spotify)\n",
    "                work_mean_tempo = work_audio_features['tempo'].mean()\n",
    "                \n",
    "hist = work_audio_features.hist(column=['tempo'])\n",
    "plt.title(\"Histogram of BPM of the Work Playlist\")\n",
    "plt.savefig('hist_working_tempo.png')\n",
    "plt.show()\n",
    "\n",
    "print('jogging mean tempo: ', jog_mean_tempo, ' vs. overall mean tempo: ', overall_mean_tempo, \n",
    "      ' vs. working mean tempo: ', work_mean_tempo)"
   ]
  },
  {
   "cell_type": "markdown",
   "metadata": {},
   "source": [
    "### Test Differences\n",
    "- check normal distribution of data with Shapiro-Wilk Test $\\rightarrow$ if the p-value (second value) is > 0.05, the data is normally distributed\n",
    "- test differences between mean of the playlists"
   ]
  },
  {
   "cell_type": "code",
   "execution_count": 10,
   "metadata": {},
   "outputs": [
    {
     "name": "stdout",
     "output_type": "stream",
     "text": [
      "Shapiro-Wilk Test for Normality:\n",
      "- for Jogging Audio Features:  (0.908547580242157, 0.0012010324280709028)\n",
      "- for Work Audio Features:  (0.9543766975402832, 0.008731386624276638)\n",
      "- for All Audio Features:  (0.9638915657997131, 8.369937063434918e-07)\n",
      " \n",
      "T Test:\n",
      "- Jogging vs. Work:  Ttest_indResult(statistic=0.9029401459528613, pvalue=0.3686417490952336)\n",
      "- Jogging vs. All:  Ttest_indResult(statistic=0.9894282945317858, pvalue=0.3263457010141897)\n"
     ]
    }
   ],
   "source": [
    "# t test\n",
    "from scipy import stats\n",
    "print(\"Shapiro-Wilk Test for Normality:\")\n",
    "print(\"- for Jogging Audio Features: \", stats.shapiro(jog_audio_features['tempo']))\n",
    "print(\"- for Work Audio Features: \", stats.shapiro(work_audio_features['tempo']))\n",
    "print(\"- for All Audio Features: \", stats.shapiro(df['tempo']))\n",
    "# result: no violation of normality\n",
    "\n",
    "print(\" \")\n",
    "print(\"T Test:\")\n",
    "print('- Jogging vs. Work: ', stats.ttest_ind(jog_audio_features['tempo'], work_audio_features['tempo'], equal_var = False))\n",
    "print('- Jogging vs. All: ', stats.ttest_ind(jog_audio_features['tempo'], df['tempo'], equal_var = False))"
   ]
  },
  {
   "cell_type": "markdown",
   "metadata": {},
   "source": [
    "**Result**: Despite expecting clear differences between the (faster) jogging playlist and the (slower) work playlist, there is neither a significant difference between jogging vs. work playlist nor jogging playlist vs. all songs.  \n",
    "$\\Rightarrow$ _Reason_: Since the BPM can be defined variably, it might not always reflect my personal perception of the tempo of the song. "
   ]
  },
  {
   "cell_type": "markdown",
   "metadata": {},
   "source": [
    "## Train an SVM as Song Recommender"
   ]
  },
  {
   "cell_type": "code",
   "execution_count": 11,
   "metadata": {},
   "outputs": [],
   "source": [
    "def optimizeOCC(X_train,X_test,model,space):\n",
    "    '''Optimizes itself'''\n",
    "\n",
    "    \n",
    "    @use_named_args(space)\n",
    "    def objective(**params):\n",
    "        model.set_params(**params)\n",
    "        model.fit(X_train)\n",
    "        y_pred_test = model.predict(X_test)\n",
    "        n_error_test = y_pred_test[y_pred_test == -1].size\n",
    "        return n_error_test/y_pred_test.size\n",
    "    \n",
    "    res_gp = gp_minimize(objective, space, n_calls=150, random_state=0)\n",
    "\n",
    "    print(\"Best score = %.4f\" % (1-res_gp.fun))\n",
    "    print(\"Best parameters:\", res_gp.x[0], ', ', res_gp.x[1])\n",
    "    \n",
    "    return res_gp"
   ]
  },
  {
   "cell_type": "markdown",
   "metadata": {},
   "source": [
    "###  Load and Split Data and Build Model"
   ]
  },
  {
   "cell_type": "code",
   "execution_count": 12,
   "metadata": {},
   "outputs": [],
   "source": [
    "# get negative playlists\n",
    "metal_playlist_uri = 'spotify:playlist:264B0D5wj2PgOr8vQvp2Ft'\n",
    "death_metal = spotify.search(q='death metal', limit=50)\n",
    "metal = spotify.search(q='metal', limit=50)\n",
    "hard_rock = spotify.search(q='hard rock', limit=50)\n",
    "punk = spotify.search(q='punk', limit=50)\n",
    "\n",
    "\n",
    "playlists = [death_metal, metal, hard_rock, punk]\n",
    "negative_df = pd.DataFrame()\n",
    "for i in range(len(playlists)):\n",
    "    track_ids = []\n",
    "    tracks = playlists[i]['tracks']['items']\n",
    "    for a, item in enumerate(tracks):\n",
    "        track_ids.append(item['id'])\n",
    "    # print('now nr. ', i)\n",
    "    audio_features = []\n",
    "    for j in range(len(track_ids)):\n",
    "        audio_features += spotify.audio_features(track_ids[j])\n",
    "    \n",
    "    features_list = []\n",
    "    for features in audio_features:\n",
    "        features_list.append([features['energy'], features['liveness'],\n",
    "                              features['tempo'], features['speechiness'],\n",
    "                              features['acousticness'], features['instrumentalness'],\n",
    "                              features['time_signature'], features['danceability'],\n",
    "                              features['key'], features['duration_ms'],\n",
    "                              features['loudness'], features['valence'],\n",
    "                              features['mode'], features['type'],\n",
    "                              features['uri']])\n",
    "\n",
    "    \n",
    "    n_df = pd.DataFrame(features_list, columns=['energy', 'liveness',\n",
    "                                              'tempo', 'speechiness',\n",
    "                                              'acousticness', 'instrumentalness',\n",
    "                                              'time_signature', 'danceability',\n",
    "                                              'key', 'duration_ms', 'loudness',\n",
    "                                              'valence', 'mode', 'type', 'uri'])\n",
    "    \n",
    "    negative_df = negative_df.append(n_df, ignore_index=True)\n",
    "negative_df = negative_df.iloc[:, [0,1,2,3,4,5,6,7,8,10,12]]\n",
    "negative_df = negative_df.assign(label=0)\n",
    "\n",
    "feature_df = df.iloc[:, [0,1,2,3,4,5,6,7,8,10,12]] # 11 features\n",
    "feature_df = feature_df.assign(label=1)\n"
   ]
  },
  {
   "cell_type": "code",
   "execution_count": 13,
   "metadata": {},
   "outputs": [
    {
     "data": {
      "text/html": [
       "<div>\n",
       "<style scoped>\n",
       "    .dataframe tbody tr th:only-of-type {\n",
       "        vertical-align: middle;\n",
       "    }\n",
       "\n",
       "    .dataframe tbody tr th {\n",
       "        vertical-align: top;\n",
       "    }\n",
       "\n",
       "    .dataframe thead th {\n",
       "        text-align: right;\n",
       "    }\n",
       "</style>\n",
       "<table border=\"1\" class=\"dataframe\">\n",
       "  <thead>\n",
       "    <tr style=\"text-align: right;\">\n",
       "      <th></th>\n",
       "      <th>energy</th>\n",
       "      <th>liveness</th>\n",
       "      <th>tempo</th>\n",
       "      <th>speechiness</th>\n",
       "      <th>acousticness</th>\n",
       "      <th>instrumentalness</th>\n",
       "      <th>time_signature</th>\n",
       "      <th>danceability</th>\n",
       "      <th>key</th>\n",
       "      <th>loudness</th>\n",
       "      <th>mode</th>\n",
       "      <th>label</th>\n",
       "    </tr>\n",
       "  </thead>\n",
       "  <tbody>\n",
       "    <tr>\n",
       "      <td>22</td>\n",
       "      <td>0.974</td>\n",
       "      <td>0.0772</td>\n",
       "      <td>182.095</td>\n",
       "      <td>0.1140</td>\n",
       "      <td>0.000670</td>\n",
       "      <td>0.001060</td>\n",
       "      <td>4</td>\n",
       "      <td>0.268</td>\n",
       "      <td>9</td>\n",
       "      <td>-2.948</td>\n",
       "      <td>1</td>\n",
       "      <td>0</td>\n",
       "    </tr>\n",
       "    <tr>\n",
       "      <td>33</td>\n",
       "      <td>0.932</td>\n",
       "      <td>0.2340</td>\n",
       "      <td>136.480</td>\n",
       "      <td>0.0509</td>\n",
       "      <td>0.006820</td>\n",
       "      <td>0.624000</td>\n",
       "      <td>4</td>\n",
       "      <td>0.639</td>\n",
       "      <td>5</td>\n",
       "      <td>-6.857</td>\n",
       "      <td>1</td>\n",
       "      <td>0</td>\n",
       "    </tr>\n",
       "    <tr>\n",
       "      <td>407</td>\n",
       "      <td>0.295</td>\n",
       "      <td>0.0929</td>\n",
       "      <td>92.073</td>\n",
       "      <td>0.0390</td>\n",
       "      <td>0.736000</td>\n",
       "      <td>0.000913</td>\n",
       "      <td>4</td>\n",
       "      <td>0.415</td>\n",
       "      <td>7</td>\n",
       "      <td>-15.334</td>\n",
       "      <td>1</td>\n",
       "      <td>1</td>\n",
       "    </tr>\n",
       "    <tr>\n",
       "      <td>395</td>\n",
       "      <td>0.340</td>\n",
       "      <td>0.0992</td>\n",
       "      <td>145.024</td>\n",
       "      <td>0.0295</td>\n",
       "      <td>0.349000</td>\n",
       "      <td>0.000000</td>\n",
       "      <td>4</td>\n",
       "      <td>0.352</td>\n",
       "      <td>2</td>\n",
       "      <td>-11.925</td>\n",
       "      <td>1</td>\n",
       "      <td>1</td>\n",
       "    </tr>\n",
       "    <tr>\n",
       "      <td>402</td>\n",
       "      <td>0.712</td>\n",
       "      <td>0.1100</td>\n",
       "      <td>114.997</td>\n",
       "      <td>0.0323</td>\n",
       "      <td>0.080200</td>\n",
       "      <td>0.000000</td>\n",
       "      <td>4</td>\n",
       "      <td>0.722</td>\n",
       "      <td>6</td>\n",
       "      <td>-6.099</td>\n",
       "      <td>0</td>\n",
       "      <td>1</td>\n",
       "    </tr>\n",
       "    <tr>\n",
       "      <td>...</td>\n",
       "      <td>...</td>\n",
       "      <td>...</td>\n",
       "      <td>...</td>\n",
       "      <td>...</td>\n",
       "      <td>...</td>\n",
       "      <td>...</td>\n",
       "      <td>...</td>\n",
       "      <td>...</td>\n",
       "      <td>...</td>\n",
       "      <td>...</td>\n",
       "      <td>...</td>\n",
       "      <td>...</td>\n",
       "    </tr>\n",
       "    <tr>\n",
       "      <td>310</td>\n",
       "      <td>0.950</td>\n",
       "      <td>0.0710</td>\n",
       "      <td>134.035</td>\n",
       "      <td>0.0559</td>\n",
       "      <td>0.000042</td>\n",
       "      <td>0.004690</td>\n",
       "      <td>4</td>\n",
       "      <td>0.492</td>\n",
       "      <td>2</td>\n",
       "      <td>-4.601</td>\n",
       "      <td>1</td>\n",
       "      <td>1</td>\n",
       "    </tr>\n",
       "    <tr>\n",
       "      <td>247</td>\n",
       "      <td>0.743</td>\n",
       "      <td>0.1470</td>\n",
       "      <td>100.038</td>\n",
       "      <td>0.0818</td>\n",
       "      <td>0.533000</td>\n",
       "      <td>0.000001</td>\n",
       "      <td>4</td>\n",
       "      <td>0.737</td>\n",
       "      <td>0</td>\n",
       "      <td>-6.281</td>\n",
       "      <td>0</td>\n",
       "      <td>1</td>\n",
       "    </tr>\n",
       "    <tr>\n",
       "      <td>51</td>\n",
       "      <td>0.362</td>\n",
       "      <td>0.0750</td>\n",
       "      <td>142.352</td>\n",
       "      <td>0.0263</td>\n",
       "      <td>0.045800</td>\n",
       "      <td>0.000006</td>\n",
       "      <td>3</td>\n",
       "      <td>0.553</td>\n",
       "      <td>4</td>\n",
       "      <td>-11.218</td>\n",
       "      <td>0</td>\n",
       "      <td>0</td>\n",
       "    </tr>\n",
       "    <tr>\n",
       "      <td>352</td>\n",
       "      <td>0.798</td>\n",
       "      <td>0.1500</td>\n",
       "      <td>92.207</td>\n",
       "      <td>0.0451</td>\n",
       "      <td>0.188000</td>\n",
       "      <td>0.000000</td>\n",
       "      <td>4</td>\n",
       "      <td>0.654</td>\n",
       "      <td>0</td>\n",
       "      <td>-4.084</td>\n",
       "      <td>1</td>\n",
       "      <td>1</td>\n",
       "    </tr>\n",
       "    <tr>\n",
       "      <td>243</td>\n",
       "      <td>0.759</td>\n",
       "      <td>0.0704</td>\n",
       "      <td>89.944</td>\n",
       "      <td>0.1200</td>\n",
       "      <td>0.003670</td>\n",
       "      <td>0.000011</td>\n",
       "      <td>4</td>\n",
       "      <td>0.647</td>\n",
       "      <td>6</td>\n",
       "      <td>-5.468</td>\n",
       "      <td>0</td>\n",
       "      <td>1</td>\n",
       "    </tr>\n",
       "  </tbody>\n",
       "</table>\n",
       "<p>500 rows × 12 columns</p>\n",
       "</div>"
      ],
      "text/plain": [
       "     energy  liveness    tempo  speechiness  acousticness  instrumentalness  \\\n",
       "22    0.974    0.0772  182.095       0.1140      0.000670          0.001060   \n",
       "33    0.932    0.2340  136.480       0.0509      0.006820          0.624000   \n",
       "407   0.295    0.0929   92.073       0.0390      0.736000          0.000913   \n",
       "395   0.340    0.0992  145.024       0.0295      0.349000          0.000000   \n",
       "402   0.712    0.1100  114.997       0.0323      0.080200          0.000000   \n",
       "..      ...       ...      ...          ...           ...               ...   \n",
       "310   0.950    0.0710  134.035       0.0559      0.000042          0.004690   \n",
       "247   0.743    0.1470  100.038       0.0818      0.533000          0.000001   \n",
       "51    0.362    0.0750  142.352       0.0263      0.045800          0.000006   \n",
       "352   0.798    0.1500   92.207       0.0451      0.188000          0.000000   \n",
       "243   0.759    0.0704   89.944       0.1200      0.003670          0.000011   \n",
       "\n",
       "     time_signature  danceability  key  loudness  mode  label  \n",
       "22                4         0.268    9    -2.948     1      0  \n",
       "33                4         0.639    5    -6.857     1      0  \n",
       "407               4         0.415    7   -15.334     1      1  \n",
       "395               4         0.352    2   -11.925     1      1  \n",
       "402               4         0.722    6    -6.099     0      1  \n",
       "..              ...           ...  ...       ...   ...    ...  \n",
       "310               4         0.492    2    -4.601     1      1  \n",
       "247               4         0.737    0    -6.281     0      1  \n",
       "51                3         0.553    4   -11.218     0      0  \n",
       "352               4         0.654    0    -4.084     1      1  \n",
       "243               4         0.647    6    -5.468     0      1  \n",
       "\n",
       "[500 rows x 12 columns]"
      ]
     },
     "metadata": {},
     "output_type": "display_data"
    }
   ],
   "source": [
    "X = pd.concat([negative_df,feature_df], ignore_index=True)\n",
    "X = shuffle(X)\n",
    "display(X)"
   ]
  },
  {
   "cell_type": "code",
   "execution_count": 14,
   "metadata": {},
   "outputs": [],
   "source": [
    "y = X[X.columns[-1]]\n",
    "x = X[X.columns.difference(['label'])]\n",
    "\n",
    "X_train, X_test, y_train, y_test = train_test_split(x,y,test_size=0.3)"
   ]
  },
  {
   "cell_type": "markdown",
   "metadata": {},
   "source": [
    "### Train and Optimize SVM"
   ]
  },
  {
   "cell_type": "code",
   "execution_count": 15,
   "metadata": {},
   "outputs": [
    {
     "name": "stdout",
     "output_type": "stream",
     "text": [
      "Cross val acc:  0.5600944799230163\n",
      "CV Score:  0.7715732959850607\n",
      "CV Score:  0.6342063492063492\n",
      "CV Score:  0.5914705882352941\n",
      "CV Score:  0.7886554621848739\n",
      "CV Score:  0.7886554621848739\n",
      "CV Score:  0.5914705882352941\n",
      "CV Score:  0.5912371615312791\n",
      "CV Score:  0.637063492063492\n",
      "CV Score:  0.6398366013071894\n",
      "CV Score:  0.5914705882352941\n",
      "CV Score:  0.7886554621848739\n",
      "CV Score:  0.7886554621848739\n",
      "CV Score:  0.7886554621848739\n",
      "CV Score:  0.7886554621848739\n",
      "CV Score:  0.7886554621848739\n"
     ]
    }
   ],
   "source": [
    "# use SVM as classifier \n",
    "svm = SVC(gamma='auto')\n",
    "\n",
    "cv_score = model_selection.cross_val_score(svm, X_train, y_train, scoring='accuracy', cv=5)\n",
    "print('Cross val acc: ', cv_score.mean())\n",
    "\n",
    "space = [Categorical(['linear','rbf','sigmoid','poly'], name='kernel'),\n",
    "        Integer(2, 15, name='degree'), Real(0.01, 0.99, name='gamma')] \n",
    "\n",
    "@use_named_args(space)\n",
    "def objective(**params):\n",
    "    svm.set_params(**params)\n",
    "    cv_score = model_selection.cross_val_score(svm, X_train, y_train, scoring='accuracy', cv=10)\n",
    "    print(\"CV Score: \", cv_score.mean())\n",
    "    return 1-cv_score.mean()\n",
    "    \n",
    "# optimize SVM\n",
    "res_gp = gp_minimize(objective, space, n_calls=15, random_state=7834723)"
   ]
  },
  {
   "cell_type": "code",
   "execution_count": 16,
   "metadata": {},
   "outputs": [
    {
     "name": "stdout",
     "output_type": "stream",
     "text": [
      "Best score = 0.7887\n",
      "Best parameters: linear ,  14 ,  0.36404328290346266\n"
     ]
    },
    {
     "data": {
      "image/png": "[encoded data removed]",
      "text/plain": [
       "<Figure size 432x288 with 1 Axes>"
      ]
     },
     "metadata": {
      "needs_background": "light"
     },
     "output_type": "display_data"
    },
    {
     "name": "stdout",
     "output_type": "stream",
     "text": [
      "accuracy score train:  0.8085714285714286\n",
      "accuracy score test:  0.8\n"
     ]
    }
   ],
   "source": [
    "print(\"Best score = %.4f\" % (1-res_gp.fun))\n",
    "print(\"Best parameters:\", res_gp.x[0], ', ', res_gp.x[1], ', ', res_gp.x[2])\n",
    "\n",
    "svm.set_params(kernel=res_gp.x[0],degree=res_gp.x[1],gamma=res_gp.x[2])\n",
    "svm.fit(X_train,y_train)\n",
    "plot_convergence(res_gp)\n",
    "plt.show()\n",
    "y_pred_train = svm.predict(X_train)\n",
    "y_pred_test = svm.predict(X_test)\n",
    "\n",
    "\n",
    "acc_train = accuracy_score(y_train, y_pred_train)\n",
    "print('accuracy score train: ', acc_train)\n",
    "acc_test = accuracy_score(y_test, y_pred_test)\n",
    "print('accuracy score test: ', acc_test)"
   ]
  },
  {
   "cell_type": "code",
   "execution_count": 17,
   "metadata": {},
   "outputs": [],
   "source": [
    "# save model\n",
    "filename = 'final_model.sav'\n",
    "pickle.dump(svm, open(filename, 'wb'))"
   ]
  },
  {
   "cell_type": "markdown",
   "metadata": {},
   "source": [
    "Note: Songs can be predicted by the model in \"predict_spotify_model.ipynb\"."
   ]
  }
 ],
 "metadata": {
  "kernelspec": {
   "display_name": "Python 3",
   "language": "python",
   "name": "python3"
  },
  "language_info": {
   "codemirror_mode": {
    "name": "ipython",
    "version": 3
   },
   "file_extension": ".py",
   "mimetype": "text/x-python",
   "name": "python",
   "nbconvert_exporter": "python",
   "pygments_lexer": "ipython3",
   "version": "3.7.1"
  }
 },
 "nbformat": 4,
 "nbformat_minor": 2
}
